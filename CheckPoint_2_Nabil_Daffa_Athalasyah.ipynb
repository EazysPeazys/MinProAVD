{
  "nbformat": 4,
  "nbformat_minor": 0,
  "metadata": {
    "colab": {
      "provenance": [],
      "authorship_tag": "ABX9TyPhwHQuLMp4VQ03GCF1fC1G",
      "include_colab_link": true
    },
    "kernelspec": {
      "name": "python3",
      "display_name": "Python 3"
    },
    "language_info": {
      "name": "python"
    }
  },
  "cells": [
    {
      "cell_type": "markdown",
      "metadata": {
        "id": "view-in-github",
        "colab_type": "text"
      },
      "source": [
        "<a href=\"https://colab.research.google.com/github/EazysPeazys/MinProAVD/blob/main/CheckPoint_2_Nabil_Daffa_Athalasyah.ipynb\" target=\"_parent\"><img src=\"https://colab.research.google.com/assets/colab-badge.svg\" alt=\"Open In Colab\"/></a>"
      ]
    },
    {
      "cell_type": "markdown",
      "source": [
        "##**NAMA: NABIL DAFFA ATHALASYAH NIM: 2409116090 C1**"
      ],
      "metadata": {
        "id": "rA8KkUS4IQOo"
      }
    },
    {
      "cell_type": "markdown",
      "source": [
        "##**CHECKPOINT 1 AVD**"
      ],
      "metadata": {
        "id": "q-_QTj4IITX6"
      }
    },
    {
      "cell_type": "markdown",
      "source": [
        "#**BUSINESS UNDERSTANDING**"
      ],
      "metadata": {
        "id": "XlFLPQxvITmw"
      }
    },
    {
      "cell_type": "markdown",
      "source": [
        "**Business Objective**"
      ],
      "metadata": {
        "id": "AO46HWV2ITxs"
      }
    },
    {
      "cell_type": "markdown",
      "source": [
        "Analisis ini bertujuan untuk memahami berbagai faktor yang memengaruhi peringkat universitas dalam QS World University Rankings 2024. Dengan analisis ini, diharapkan dapat memberikan wawasan yang bermanfaat bagi calon mahasiswa dalam memilih universitas berdasarkan kriteria tertentu, serta membantu institusi pendidikan dalam meningkatkan peringkat mereka. Selain itu, analisis ini juga bertujuan untuk mengidentifikasi tren global dalam pendidikan tinggi dengan mempertimbangkan aspek akademik, penelitian, dan tingkat internasionalisasi."
      ],
      "metadata": {
        "id": "mQrb8AlgIT_L"
      }
    },
    {
      "cell_type": "markdown",
      "source": [
        "**Assess Situation**"
      ],
      "metadata": {
        "id": "BYRDxrGHIUIc"
      }
    },
    {
      "cell_type": "markdown",
      "source": [
        "Analisis ini melibatkan berbagai pemangku kepentingan, termasuk universitas dan akademisi, calon mahasiswa beserta orang tua, perusahaan yang mencari lulusan berkualitas, serta pemerintah dan pembuat kebijakan pendidikan. Sumber data utama yang digunakan berasal dari dataset QS World University Rankings, dengan berbagai faktor penentu seperti reputasi akademik, jumlah sitasi, proporsi fakultas internasional, serta aspek keberlanjutan. Namun, terdapat beberapa kendala dalam proses analisis ini, seperti data yang tidak lengkap pada beberapa kolom, termasuk Research, International Faculty, dan Sustainability Score. Oleh karena itu, diperlukan proses pembersihan dan pengolahan data agar analisis yang dilakukan lebih akurat. Selain itu, karena sebagian besar data berbentuk string, diperlukan konversi ke format numerik untuk memungkinkan analisis kuantitatif yang lebih mendalam."
      ],
      "metadata": {
        "id": "CvVUKrScIUXk"
      }
    },
    {
      "cell_type": "markdown",
      "source": [
        "**Data Mining Goals**"
      ],
      "metadata": {
        "id": "Alg9R5zQIUhj"
      }
    },
    {
      "cell_type": "markdown",
      "source": [
        "Tujuan utama dari analisis data mining ini adalah untuk mengidentifikasi universitas terbaik berdasarkan faktor-faktor utama yang memengaruhi peringkat. Selain itu, analisis ini juga bertujuan untuk mengevaluasi pola perubahan peringkat universitas dari tahun ke tahun, serta memahami hubungan antara faktor-faktor yang menentukan peringkat tersebut. Lebih jauh, analisis ini berusaha mengidentifikasi negara dengan performa terbaik dalam sektor pendidikan tinggi serta menyoroti universitas yang unggul dalam hal keberlanjutan dan penelitian internasional."
      ],
      "metadata": {
        "id": "7mjmdHjZIUxM"
      }
    },
    {
      "cell_type": "markdown",
      "source": [
        "**Project Plan**"
      ],
      "metadata": {
        "id": "fSEWFTowIU6P"
      }
    },
    {
      "cell_type": "markdown",
      "source": [
        "Proses analisis ini akan dilakukan melalui beberapa tahapan utama, yaitu:\n",
        "\n",
        "1. Persiapan Data\n",
        "\n",
        "- Melakukan pembersihan dataset.\n",
        "- Mengonversi format data ke bentuk numerik.\n",
        "- Menangani data yang tidak lengkap.\n",
        "\n",
        "2. Eksplorasi Data\n",
        "\n",
        "- Menganalisis distribusi universitas berdasarkan negara.\n",
        "- Mengidentifikasi universitas terbaik berdasarkan berbagai faktor.\n",
        "- Mengamati tren perubahan peringkat universitas dari tahun ke tahun.\n",
        "\n",
        "3. Analisis Korelasi\n",
        "\n",
        "- Menghitung korelasi antara faktor-faktor utama yang berkontribusi terhadap peringkat.\n",
        "- Mengidentifikasi faktor yang paling berpengaruh.\n",
        "\n",
        "4. Visualisasi Data\n",
        "\n",
        "- Menyajikan grafik distribusi universitas berdasarkan negara.\n",
        "- Memvisualisasikan hubungan antara faktor-faktor peringkat.\n",
        "\n",
        "5. Kesimpulan dan Rekomendasi\n",
        "\n",
        "- Merangkum temuan utama dari hasil analisis.\n",
        "- Memberikan rekomendasi bagi universitas, calon mahasiswa, dan pembuat kebijakan pendidikan."
      ],
      "metadata": {
        "id": "bjI269eXIzLr"
      }
    }
  ]
}